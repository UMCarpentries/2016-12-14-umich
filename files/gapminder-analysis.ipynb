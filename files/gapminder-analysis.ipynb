{
 "cells": [
  {
   "cell_type": "code",
   "execution_count": null,
   "metadata": {
    "collapsed": false
   },
   "outputs": [],
   "source": [
    "import pandas as pd\n",
    "import statsmodels.api as sm\n",
    "import matplotlib.pyplot as plt\n",
    "from matplotlib.colors import LogNorm\n",
    "import seaborn\n",
    "import numpy as np\n",
    "\n",
    "%matplotlib inline\n",
    "\n",
    "seaborn.set_context('notebook', font_scale=1.4)\n",
    "\n",
    "data = pd.read_csv('gapminder_all.csv', index_col='country')\n",
    "data = data.drop(data.gdpPercap_1957.argmax())"
   ]
  },
  {
   "cell_type": "code",
   "execution_count": null,
   "metadata": {
    "collapsed": false
   },
   "outputs": [],
   "source": [
    "def scientific_notation(value, precision=1):\n",
    "    order = int(np.log10(value))\n",
    "    digits = round(value / 10**order, precision)\n",
    "    if precision == 0:\n",
    "        digits = int(digits)\n",
    "    return str(digits) + \"e\" + str(order)\n",
    "\n",
    "assert scientific_notation(26.69, 2) == '2.67e1'"
   ]
  },
  {
   "cell_type": "code",
   "execution_count": null,
   "metadata": {
    "collapsed": false
   },
   "outputs": [],
   "source": [
    "fig, ax = plt.subplots()\n",
    "\n",
    "for continent in data.continent.unique():\n",
    "    d = data[data.continent == continent]\n",
    "    if continent == 'Africa':\n",
    "        color = 'blue'\n",
    "    elif continent == 'Asia':\n",
    "        color = 'green'\n",
    "    elif continent == 'Europe':\n",
    "        color = 'purple'\n",
    "    else:\n",
    "        color = 'grey'\n",
    "    ax.scatter(d.gdpPercap_1957, d.lifeExp_1957,\n",
    "               s=np.sqrt(d.pop_1957 / 1e4),\n",
    "               c=color, alpha=0.5)\n",
    "\n",
    "marks = []\n",
    "labels = []\n",
    "for pop in np.logspace(6, 8, num=3):\n",
    "    marks.append(ax.scatter([], [],\n",
    "                 c='grey',\n",
    "                 s=np.sqrt(pop / 1e4),\n",
    "                 label=pop))\n",
    "    labels.append(scientific_notation(pop, precision=0))\n",
    "\n",
    "fit = sm.OLS.from_formula('lifeExp_1957 ~ np.log(gdpPercap_1957)', data=data).fit()\n",
    "xx = np.linspace(300, 15000)\n",
    "ax.plot(xx, fit.params[0] + fit.params[1] * np.log(xx))\n",
    "\n",
    "\n",
    "ax.legend(marks, labels, loc='lower right', title='Population')\n",
    "ax.set_xlabel('GDP/Pop')\n",
    "ax.set_ylabel('Life expectancy')\n",
    "ax.set_title('Relationship between wealth and life-expectancy in 1957')"
   ]
  },
  {
   "cell_type": "code",
   "execution_count": null,
   "metadata": {
    "collapsed": false
   },
   "outputs": [],
   "source": [
    "fit.summary()"
   ]
  }
 ],
 "metadata": {
  "kernelspec": {
   "display_name": "Python 3",
   "language": "python",
   "name": "python3"
  },
  "language_info": {
   "codemirror_mode": {
    "name": "ipython",
    "version": 3
   },
   "file_extension": ".py",
   "mimetype": "text/x-python",
   "name": "python",
   "nbconvert_exporter": "python",
   "pygments_lexer": "ipython3",
   "version": "3.5.2"
  }
 },
 "nbformat": 4,
 "nbformat_minor": 0
}
